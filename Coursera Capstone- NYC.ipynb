{
 "cells": [
  {
   "cell_type": "markdown",
   "metadata": {
    "collapsed": true
   },
   "source": [
    "<center><h1> Capstone Project"
   ]
  },
  {
   "cell_type": "markdown",
   "metadata": {},
   "source": [
    "<center><h2> The Battle of the Neighborhoods"
   ]
  },
  {
   "cell_type": "markdown",
   "metadata": {},
   "source": [
    "![Image of Central Park](https://s3.amazonaws.com/assets.centralparknyc.org/images/about/history/history-1.jpg)"
   ]
  },
  {
   "cell_type": "markdown",
   "metadata": {},
   "source": [
    "<h2><center> -- Introduction --"
   ]
  },
  {
   "cell_type": "markdown",
   "metadata": {},
   "source": [
    "In New York City, accessibility and proximity to public services are highly valued. A local park can be a very attractive addition to a densely populated neighborhood. Similarly, a nearby subway station can significantly shorten one's daily commute. These luxuries are often desired by renters; however, they come at a cost. Not all neighborhoods have beautiful parks or a subway station right around the corner.\n"
   ]
  },
  {
   "cell_type": "markdown",
   "metadata": {},
   "source": [
    "When renters seek a residential rental property in the city, it's important that they understand how much an amenity or service like these can affect rents. Likewise, landlords should be concious of the value placed on amenities and services surrounding their property to ensure their asking price relfects the market value. "
   ]
  },
  {
   "cell_type": "markdown",
   "metadata": {},
   "source": [
    "In this capstone project, I aim to answer the question, how does proximity to subway stations and public parks affect the median rent (asking price) in New York City neighborhoods?"
   ]
  },
  {
   "cell_type": "markdown",
   "metadata": {},
   "source": [
    "<h2><center> -- Data --"
   ]
  },
  {
   "cell_type": "markdown",
   "metadata": {},
   "source": [
    "In order to conduct my analysis, I will need to source location data for New York City and separate it into geographical boundaries defined by the cities boroughs. Additionally, I will need information about the proximity of subway stations and public parks to residents in each neighborhood. Fortunately, much of this data is available from the NYU Furman Center which provides historical data on the city's neighborhood populations.\n",
    "\n",
    "I will be using information from 2017 as it is the most recent year that has the most complete data within the database.\n",
    "\n",
    "-The proximity to a subway station will be defined by the percentage of residential units that are within a half mile walk of a station entrance for the New York City Subway, Long Island Rail Road, PATH, Amtrak, Metro-North Railroad, or Staten Island Railway.\n",
    "\n",
    "-The proximity to a public park will be defined by the percentage of residential units that are within a quarter mile of a park.\n",
    "\n",
    "-Median rent will be defined as the median rent that landlords ask for housing units available for rent (in USD). \n",
    "   "
   ]
  },
  {
   "cell_type": "markdown",
   "metadata": {},
   "source": [
    "<h2><center> -- Methodology --"
   ]
  },
  {
   "cell_type": "markdown",
   "metadata": {},
   "source": [
    "<h3> Importing and Formatting Data"
   ]
  },
  {
   "cell_type": "code",
   "execution_count": 2,
   "metadata": {},
   "outputs": [],
   "source": [
    "#Importing libraries\n",
    "\n",
    "import matplotlib.pyplot as plt\n",
    "import pandas as pd\n",
    "import pylab as pl\n",
    "import numpy as np\n",
    "import types\n",
    "from botocore.client import Config\n",
    "import ibm_boto3\n",
    "%matplotlib inline"
   ]
  },
  {
   "cell_type": "markdown",
   "metadata": {},
   "source": [
    "<h3><center> Park Data"
   ]
  },
  {
   "cell_type": "markdown",
   "metadata": {},
   "source": [
    "The percentage of residential units that are within a quarter mile of a park."
   ]
  },
  {
   "cell_type": "markdown",
   "metadata": {},
   "source": [
    "The following cell contains sensitive information "
   ]
  },
  {
   "cell_type": "code",
   "execution_count": 3,
   "metadata": {
    "scrolled": true
   },
   "outputs": [
    {
     "data": {
      "text/html": [
       "<div>\n",
       "<style scoped>\n",
       "    .dataframe tbody tr th:only-of-type {\n",
       "        vertical-align: middle;\n",
       "    }\n",
       "\n",
       "    .dataframe tbody tr th {\n",
       "        vertical-align: top;\n",
       "    }\n",
       "\n",
       "    .dataframe thead th {\n",
       "        text-align: right;\n",
       "    }\n",
       "</style>\n",
       "<table border=\"1\" class=\"dataframe\">\n",
       "  <thead>\n",
       "    <tr style=\"text-align: right;\">\n",
       "      <th></th>\n",
       "      <th>short_name</th>\n",
       "      <th>long_name</th>\n",
       "      <th>Community District</th>\n",
       "      <th>2017</th>\n",
       "    </tr>\n",
       "  </thead>\n",
       "  <tbody>\n",
       "    <tr>\n",
       "      <th>0</th>\n",
       "      <td>prox_park_pct</td>\n",
       "      <td>Residential units within 1/4 mile of a park</td>\n",
       "      <td>MN 01 - Financial District</td>\n",
       "      <td>0.986067</td>\n",
       "    </tr>\n",
       "    <tr>\n",
       "      <th>1</th>\n",
       "      <td>prox_park_pct</td>\n",
       "      <td>Residential units within 1/4 mile of a park</td>\n",
       "      <td>MN 02 - Greenwich Village/Soho</td>\n",
       "      <td>0.995910</td>\n",
       "    </tr>\n",
       "    <tr>\n",
       "      <th>2</th>\n",
       "      <td>prox_park_pct</td>\n",
       "      <td>Residential units within 1/4 mile of a park</td>\n",
       "      <td>MN 03 - Lower East Side/Chinatown</td>\n",
       "      <td>0.997909</td>\n",
       "    </tr>\n",
       "    <tr>\n",
       "      <th>3</th>\n",
       "      <td>prox_park_pct</td>\n",
       "      <td>Residential units within 1/4 mile of a park</td>\n",
       "      <td>MN 04 - Clinton/Chelsea</td>\n",
       "      <td>0.789133</td>\n",
       "    </tr>\n",
       "    <tr>\n",
       "      <th>4</th>\n",
       "      <td>prox_park_pct</td>\n",
       "      <td>Residential units within 1/4 mile of a park</td>\n",
       "      <td>MN 05 - Midtown</td>\n",
       "      <td>0.635637</td>\n",
       "    </tr>\n",
       "  </tbody>\n",
       "</table>\n",
       "</div>"
      ],
      "text/plain": [
       "      short_name                                    long_name  \\\n",
       "0  prox_park_pct  Residential units within 1/4 mile of a park   \n",
       "1  prox_park_pct  Residential units within 1/4 mile of a park   \n",
       "2  prox_park_pct  Residential units within 1/4 mile of a park   \n",
       "3  prox_park_pct  Residential units within 1/4 mile of a park   \n",
       "4  prox_park_pct  Residential units within 1/4 mile of a park   \n",
       "\n",
       "                  Community District      2017  \n",
       "0         MN 01 - Financial District  0.986067  \n",
       "1     MN 02 - Greenwich Village/Soho  0.995910  \n",
       "2  MN 03 - Lower East Side/Chinatown  0.997909  \n",
       "3            MN 04 - Clinton/Chelsea  0.789133  \n",
       "4                    MN 05 - Midtown  0.635637  "
      ]
     },
     "execution_count": 3,
     "metadata": {},
     "output_type": "execute_result"
    }
   ],
   "source": [
    "#Import Park Data\n",
    "\n",
    "def __iter__(self): return 0\n",
    "\n",
    "# @hidden_cell\n",
    "# The following code accesses a file in your IBM Cloud Object Storage. It includes your credentials.\n",
    "# You might want to remove those credentials before you share the notebook.\n",
    "client_ed42ea0357ce4eb68d8c6921e375c3a8 = ibm_boto3.client(service_name='s3',\n",
    "    ibm_api_key_id='rgcmLsf_PHcYTLDHym9gZX-yld2ABY9wq5G9I6t7Oz0g',\n",
    "    ibm_auth_endpoint=\"https://iam.ng.bluemix.net/oidc/token\",\n",
    "    config=Config(signature_version='oauth'),\n",
    "    endpoint_url='https://s3-api.us-geo.objectstorage.service.networklayer.com')\n",
    "\n",
    "body = client_ed42ea0357ce4eb68d8c6921e375c3a8.get_object(Bucket='courseracapstonefinal-donotdelete-pr-gzmr4cupvznlu7',Key='Park_data.csv')['Body']\n",
    "# add missing __iter__ method, so pandas accepts body as file-like object\n",
    "if not hasattr(body, \"__iter__\"): body.__iter__ = types.MethodType( __iter__, body )\n",
    "\n",
    "df_Park_import = pd.read_csv(body)\n",
    "df_Park_import.head()\n",
    "\n",
    "\n"
   ]
  },
  {
   "cell_type": "code",
   "execution_count": 4,
   "metadata": {
    "scrolled": true
   },
   "outputs": [
    {
     "data": {
      "text/html": [
       "<div>\n",
       "<style scoped>\n",
       "    .dataframe tbody tr th:only-of-type {\n",
       "        vertical-align: middle;\n",
       "    }\n",
       "\n",
       "    .dataframe tbody tr th {\n",
       "        vertical-align: top;\n",
       "    }\n",
       "\n",
       "    .dataframe thead th {\n",
       "        text-align: right;\n",
       "    }\n",
       "</style>\n",
       "<table border=\"1\" class=\"dataframe\">\n",
       "  <thead>\n",
       "    <tr style=\"text-align: right;\">\n",
       "      <th></th>\n",
       "      <th>Community District</th>\n",
       "      <th>% Nearby Park</th>\n",
       "    </tr>\n",
       "  </thead>\n",
       "  <tbody>\n",
       "    <tr>\n",
       "      <th>0</th>\n",
       "      <td>MN 01 - Financial District</td>\n",
       "      <td>0.986067</td>\n",
       "    </tr>\n",
       "    <tr>\n",
       "      <th>1</th>\n",
       "      <td>MN 02 - Greenwich Village/Soho</td>\n",
       "      <td>0.995910</td>\n",
       "    </tr>\n",
       "    <tr>\n",
       "      <th>2</th>\n",
       "      <td>MN 03 - Lower East Side/Chinatown</td>\n",
       "      <td>0.997909</td>\n",
       "    </tr>\n",
       "    <tr>\n",
       "      <th>3</th>\n",
       "      <td>MN 04 - Clinton/Chelsea</td>\n",
       "      <td>0.789133</td>\n",
       "    </tr>\n",
       "    <tr>\n",
       "      <th>4</th>\n",
       "      <td>MN 05 - Midtown</td>\n",
       "      <td>0.635637</td>\n",
       "    </tr>\n",
       "  </tbody>\n",
       "</table>\n",
       "</div>"
      ],
      "text/plain": [
       "                  Community District  % Nearby Park\n",
       "0         MN 01 - Financial District       0.986067\n",
       "1     MN 02 - Greenwich Village/Soho       0.995910\n",
       "2  MN 03 - Lower East Side/Chinatown       0.997909\n",
       "3            MN 04 - Clinton/Chelsea       0.789133\n",
       "4                    MN 05 - Midtown       0.635637"
      ]
     },
     "execution_count": 4,
     "metadata": {},
     "output_type": "execute_result"
    }
   ],
   "source": [
    "#Making new dataframe for park data\n",
    "#Keeping only relevant columns\n",
    "\n",
    "df_park= df_Park_import[['Community District','2017']]\n",
    "df_park = df_park.rename(columns={'2017': '% Nearby Park'})\n",
    "df_park.head()\n",
    "\n"
   ]
  },
  {
   "cell_type": "markdown",
   "metadata": {},
   "source": [
    "<h3><center> Subway Data"
   ]
  },
  {
   "cell_type": "markdown",
   "metadata": {},
   "source": [
    "The percentage of residential units that are within a half mile walk of a station entrance for the New York City Subway, Long Island Rail Road, PATH, Amtrak, Metro-North Railroad, or Staten Island Railway."
   ]
  },
  {
   "cell_type": "code",
   "execution_count": 5,
   "metadata": {},
   "outputs": [
    {
     "data": {
      "text/html": [
       "<div>\n",
       "<style scoped>\n",
       "    .dataframe tbody tr th:only-of-type {\n",
       "        vertical-align: middle;\n",
       "    }\n",
       "\n",
       "    .dataframe tbody tr th {\n",
       "        vertical-align: top;\n",
       "    }\n",
       "\n",
       "    .dataframe thead th {\n",
       "        text-align: right;\n",
       "    }\n",
       "</style>\n",
       "<table border=\"1\" class=\"dataframe\">\n",
       "  <thead>\n",
       "    <tr style=\"text-align: right;\">\n",
       "      <th></th>\n",
       "      <th>short_name</th>\n",
       "      <th>long_name</th>\n",
       "      <th>Community District</th>\n",
       "      <th>2017</th>\n",
       "    </tr>\n",
       "  </thead>\n",
       "  <tbody>\n",
       "    <tr>\n",
       "      <th>0</th>\n",
       "      <td>prox_subway_pct</td>\n",
       "      <td>Residential units within 1/2 mile of a subway ...</td>\n",
       "      <td>MN 01 - Financial District</td>\n",
       "      <td>1.000000</td>\n",
       "    </tr>\n",
       "    <tr>\n",
       "      <th>1</th>\n",
       "      <td>prox_subway_pct</td>\n",
       "      <td>Residential units within 1/2 mile of a subway ...</td>\n",
       "      <td>MN 02 - Greenwich Village/Soho</td>\n",
       "      <td>1.000000</td>\n",
       "    </tr>\n",
       "    <tr>\n",
       "      <th>2</th>\n",
       "      <td>prox_subway_pct</td>\n",
       "      <td>Residential units within 1/2 mile of a subway ...</td>\n",
       "      <td>MN 03 - Lower East Side/Chinatown</td>\n",
       "      <td>0.855089</td>\n",
       "    </tr>\n",
       "    <tr>\n",
       "      <th>3</th>\n",
       "      <td>prox_subway_pct</td>\n",
       "      <td>Residential units within 1/2 mile of a subway ...</td>\n",
       "      <td>MN 04 - Clinton/Chelsea</td>\n",
       "      <td>0.943890</td>\n",
       "    </tr>\n",
       "    <tr>\n",
       "      <th>4</th>\n",
       "      <td>prox_subway_pct</td>\n",
       "      <td>Residential units within 1/2 mile of a subway ...</td>\n",
       "      <td>MN 05 - Midtown</td>\n",
       "      <td>1.000000</td>\n",
       "    </tr>\n",
       "  </tbody>\n",
       "</table>\n",
       "</div>"
      ],
      "text/plain": [
       "        short_name                                          long_name  \\\n",
       "0  prox_subway_pct  Residential units within 1/2 mile of a subway ...   \n",
       "1  prox_subway_pct  Residential units within 1/2 mile of a subway ...   \n",
       "2  prox_subway_pct  Residential units within 1/2 mile of a subway ...   \n",
       "3  prox_subway_pct  Residential units within 1/2 mile of a subway ...   \n",
       "4  prox_subway_pct  Residential units within 1/2 mile of a subway ...   \n",
       "\n",
       "                  Community District      2017  \n",
       "0         MN 01 - Financial District  1.000000  \n",
       "1     MN 02 - Greenwich Village/Soho  1.000000  \n",
       "2  MN 03 - Lower East Side/Chinatown  0.855089  \n",
       "3            MN 04 - Clinton/Chelsea  0.943890  \n",
       "4                    MN 05 - Midtown  1.000000  "
      ]
     },
     "execution_count": 5,
     "metadata": {},
     "output_type": "execute_result"
    }
   ],
   "source": [
    "#Importing Subway Data\n",
    "\n",
    "body = client_ed42ea0357ce4eb68d8c6921e375c3a8.get_object(Bucket='courseracapstonefinal-donotdelete-pr-gzmr4cupvznlu7',Key='Subway_data.csv')['Body']\n",
    "# add missing __iter__ method, so pandas accepts body as file-like object\n",
    "if not hasattr(body, \"__iter__\"): body.__iter__ = types.MethodType( __iter__, body )\n",
    "\n",
    "df_Subway_import = pd.read_csv(body)\n",
    "df_Subway_import.head()\n"
   ]
  },
  {
   "cell_type": "code",
   "execution_count": 6,
   "metadata": {},
   "outputs": [
    {
     "data": {
      "text/html": [
       "<div>\n",
       "<style scoped>\n",
       "    .dataframe tbody tr th:only-of-type {\n",
       "        vertical-align: middle;\n",
       "    }\n",
       "\n",
       "    .dataframe tbody tr th {\n",
       "        vertical-align: top;\n",
       "    }\n",
       "\n",
       "    .dataframe thead th {\n",
       "        text-align: right;\n",
       "    }\n",
       "</style>\n",
       "<table border=\"1\" class=\"dataframe\">\n",
       "  <thead>\n",
       "    <tr style=\"text-align: right;\">\n",
       "      <th></th>\n",
       "      <th>Community District</th>\n",
       "      <th>% Nearby Subway</th>\n",
       "    </tr>\n",
       "  </thead>\n",
       "  <tbody>\n",
       "    <tr>\n",
       "      <th>0</th>\n",
       "      <td>MN 01 - Financial District</td>\n",
       "      <td>1.000000</td>\n",
       "    </tr>\n",
       "    <tr>\n",
       "      <th>1</th>\n",
       "      <td>MN 02 - Greenwich Village/Soho</td>\n",
       "      <td>1.000000</td>\n",
       "    </tr>\n",
       "    <tr>\n",
       "      <th>2</th>\n",
       "      <td>MN 03 - Lower East Side/Chinatown</td>\n",
       "      <td>0.855089</td>\n",
       "    </tr>\n",
       "    <tr>\n",
       "      <th>3</th>\n",
       "      <td>MN 04 - Clinton/Chelsea</td>\n",
       "      <td>0.943890</td>\n",
       "    </tr>\n",
       "    <tr>\n",
       "      <th>4</th>\n",
       "      <td>MN 05 - Midtown</td>\n",
       "      <td>1.000000</td>\n",
       "    </tr>\n",
       "  </tbody>\n",
       "</table>\n",
       "</div>"
      ],
      "text/plain": [
       "                  Community District  % Nearby Subway\n",
       "0         MN 01 - Financial District         1.000000\n",
       "1     MN 02 - Greenwich Village/Soho         1.000000\n",
       "2  MN 03 - Lower East Side/Chinatown         0.855089\n",
       "3            MN 04 - Clinton/Chelsea         0.943890\n",
       "4                    MN 05 - Midtown         1.000000"
      ]
     },
     "execution_count": 6,
     "metadata": {},
     "output_type": "execute_result"
    }
   ],
   "source": [
    "#Making new dataframe for subway data\n",
    "#Keeping only relevant columns\n",
    "\n",
    "df_subway= df_Subway_import[['Community District', '2017']]\n",
    "df_subway = df_subway.rename(columns={'2017': '% Nearby Subway'})\n",
    "df_subway.head()"
   ]
  },
  {
   "cell_type": "markdown",
   "metadata": {},
   "source": [
    "<h3><center> Median Rent Data"
   ]
  },
  {
   "cell_type": "markdown",
   "metadata": {},
   "source": [
    "The median rent that landlords ask for housing units available for rent. "
   ]
  },
  {
   "cell_type": "code",
   "execution_count": 7,
   "metadata": {},
   "outputs": [
    {
     "data": {
      "text/html": [
       "<div>\n",
       "<style scoped>\n",
       "    .dataframe tbody tr th:only-of-type {\n",
       "        vertical-align: middle;\n",
       "    }\n",
       "\n",
       "    .dataframe tbody tr th {\n",
       "        vertical-align: top;\n",
       "    }\n",
       "\n",
       "    .dataframe thead th {\n",
       "        text-align: right;\n",
       "    }\n",
       "</style>\n",
       "<table border=\"1\" class=\"dataframe\">\n",
       "  <thead>\n",
       "    <tr style=\"text-align: right;\">\n",
       "      <th></th>\n",
       "      <th>short_name</th>\n",
       "      <th>long_name</th>\n",
       "      <th>Community District</th>\n",
       "      <th>2010</th>\n",
       "      <th>2011</th>\n",
       "      <th>2012</th>\n",
       "      <th>2013</th>\n",
       "      <th>2014</th>\n",
       "      <th>2015</th>\n",
       "      <th>2016</th>\n",
       "      <th>2017</th>\n",
       "      <th>2018</th>\n",
       "    </tr>\n",
       "  </thead>\n",
       "  <tbody>\n",
       "    <tr>\n",
       "      <th>0</th>\n",
       "      <td>rent_asking_med</td>\n",
       "      <td>Median rent, asking</td>\n",
       "      <td>MN 01 - Financial District</td>\n",
       "      <td>3495.0</td>\n",
       "      <td>3650.0</td>\n",
       "      <td>3895.0</td>\n",
       "      <td>3750.0</td>\n",
       "      <td>3875.0</td>\n",
       "      <td>3947.0</td>\n",
       "      <td>3950.0</td>\n",
       "      <td>3950</td>\n",
       "      <td>3995</td>\n",
       "    </tr>\n",
       "    <tr>\n",
       "      <th>1</th>\n",
       "      <td>rent_asking_med</td>\n",
       "      <td>Median rent, asking</td>\n",
       "      <td>MN 02 - Greenwich Village/Soho</td>\n",
       "      <td>3200.0</td>\n",
       "      <td>3300.0</td>\n",
       "      <td>3495.0</td>\n",
       "      <td>3400.0</td>\n",
       "      <td>3500.0</td>\n",
       "      <td>3600.0</td>\n",
       "      <td>3700.0</td>\n",
       "      <td>3595</td>\n",
       "      <td>3662</td>\n",
       "    </tr>\n",
       "    <tr>\n",
       "      <th>2</th>\n",
       "      <td>rent_asking_med</td>\n",
       "      <td>Median rent, asking</td>\n",
       "      <td>MN 03 - Lower East Side/Chinatown</td>\n",
       "      <td>2495.0</td>\n",
       "      <td>2600.0</td>\n",
       "      <td>2850.0</td>\n",
       "      <td>3000.0</td>\n",
       "      <td>3000.0</td>\n",
       "      <td>3000.0</td>\n",
       "      <td>3150.0</td>\n",
       "      <td>3000</td>\n",
       "      <td>3150</td>\n",
       "    </tr>\n",
       "    <tr>\n",
       "      <th>3</th>\n",
       "      <td>rent_asking_med</td>\n",
       "      <td>Median rent, asking</td>\n",
       "      <td>MN 04 - Clinton/Chelsea</td>\n",
       "      <td>2900.0</td>\n",
       "      <td>3050.0</td>\n",
       "      <td>3235.0</td>\n",
       "      <td>3468.0</td>\n",
       "      <td>3490.0</td>\n",
       "      <td>3795.0</td>\n",
       "      <td>3750.0</td>\n",
       "      <td>3400</td>\n",
       "      <td>3467</td>\n",
       "    </tr>\n",
       "    <tr>\n",
       "      <th>4</th>\n",
       "      <td>rent_asking_med</td>\n",
       "      <td>Median rent, asking</td>\n",
       "      <td>MN 05 - Midtown</td>\n",
       "      <td>3495.0</td>\n",
       "      <td>3595.0</td>\n",
       "      <td>3712.5</td>\n",
       "      <td>3655.0</td>\n",
       "      <td>3750.0</td>\n",
       "      <td>3800.0</td>\n",
       "      <td>3830.0</td>\n",
       "      <td>4000</td>\n",
       "      <td>4000</td>\n",
       "    </tr>\n",
       "  </tbody>\n",
       "</table>\n",
       "</div>"
      ],
      "text/plain": [
       "        short_name            long_name                 Community District  \\\n",
       "0  rent_asking_med  Median rent, asking         MN 01 - Financial District   \n",
       "1  rent_asking_med  Median rent, asking     MN 02 - Greenwich Village/Soho   \n",
       "2  rent_asking_med  Median rent, asking  MN 03 - Lower East Side/Chinatown   \n",
       "3  rent_asking_med  Median rent, asking            MN 04 - Clinton/Chelsea   \n",
       "4  rent_asking_med  Median rent, asking                    MN 05 - Midtown   \n",
       "\n",
       "     2010    2011    2012    2013    2014    2015    2016  2017  2018  \n",
       "0  3495.0  3650.0  3895.0  3750.0  3875.0  3947.0  3950.0  3950  3995  \n",
       "1  3200.0  3300.0  3495.0  3400.0  3500.0  3600.0  3700.0  3595  3662  \n",
       "2  2495.0  2600.0  2850.0  3000.0  3000.0  3000.0  3150.0  3000  3150  \n",
       "3  2900.0  3050.0  3235.0  3468.0  3490.0  3795.0  3750.0  3400  3467  \n",
       "4  3495.0  3595.0  3712.5  3655.0  3750.0  3800.0  3830.0  4000  4000  "
      ]
     },
     "execution_count": 7,
     "metadata": {},
     "output_type": "execute_result"
    }
   ],
   "source": [
    "#Importing Rent Data\n",
    "\n",
    "body = client_ed42ea0357ce4eb68d8c6921e375c3a8.get_object(Bucket='courseracapstonefinal-donotdelete-pr-gzmr4cupvznlu7',Key='Rent_data.csv')['Body']\n",
    "# add missing __iter__ method, so pandas accepts body as file-like object\n",
    "if not hasattr(body, \"__iter__\"): body.__iter__ = types.MethodType( __iter__, body )\n",
    "\n",
    "df_rent_import = pd.read_csv(body)\n",
    "df_rent_import.head()\n"
   ]
  },
  {
   "cell_type": "code",
   "execution_count": 8,
   "metadata": {},
   "outputs": [
    {
     "data": {
      "text/html": [
       "<div>\n",
       "<style scoped>\n",
       "    .dataframe tbody tr th:only-of-type {\n",
       "        vertical-align: middle;\n",
       "    }\n",
       "\n",
       "    .dataframe tbody tr th {\n",
       "        vertical-align: top;\n",
       "    }\n",
       "\n",
       "    .dataframe thead th {\n",
       "        text-align: right;\n",
       "    }\n",
       "</style>\n",
       "<table border=\"1\" class=\"dataframe\">\n",
       "  <thead>\n",
       "    <tr style=\"text-align: right;\">\n",
       "      <th></th>\n",
       "      <th>Community District</th>\n",
       "      <th>Median Rent</th>\n",
       "    </tr>\n",
       "  </thead>\n",
       "  <tbody>\n",
       "    <tr>\n",
       "      <th>0</th>\n",
       "      <td>MN 01 - Financial District</td>\n",
       "      <td>3950</td>\n",
       "    </tr>\n",
       "    <tr>\n",
       "      <th>1</th>\n",
       "      <td>MN 02 - Greenwich Village/Soho</td>\n",
       "      <td>3595</td>\n",
       "    </tr>\n",
       "    <tr>\n",
       "      <th>2</th>\n",
       "      <td>MN 03 - Lower East Side/Chinatown</td>\n",
       "      <td>3000</td>\n",
       "    </tr>\n",
       "    <tr>\n",
       "      <th>3</th>\n",
       "      <td>MN 04 - Clinton/Chelsea</td>\n",
       "      <td>3400</td>\n",
       "    </tr>\n",
       "    <tr>\n",
       "      <th>4</th>\n",
       "      <td>MN 05 - Midtown</td>\n",
       "      <td>4000</td>\n",
       "    </tr>\n",
       "  </tbody>\n",
       "</table>\n",
       "</div>"
      ],
      "text/plain": [
       "                  Community District  Median Rent\n",
       "0         MN 01 - Financial District         3950\n",
       "1     MN 02 - Greenwich Village/Soho         3595\n",
       "2  MN 03 - Lower East Side/Chinatown         3000\n",
       "3            MN 04 - Clinton/Chelsea         3400\n",
       "4                    MN 05 - Midtown         4000"
      ]
     },
     "execution_count": 8,
     "metadata": {},
     "output_type": "execute_result"
    }
   ],
   "source": [
    "#Making new dataframe for rent data\n",
    "#Keeping only relevant columns\n",
    "\n",
    "df_rent= df_rent_import[['Community District', '2017']]\n",
    "df_rent = df_rent.rename(columns={'2017': 'Median Rent'})\n",
    "df_rent.head()"
   ]
  },
  {
   "cell_type": "markdown",
   "metadata": {},
   "source": [
    "<h3><center> Combining into a single dataframe"
   ]
  },
  {
   "cell_type": "code",
   "execution_count": 25,
   "metadata": {},
   "outputs": [
    {
     "data": {
      "text/html": [
       "<div>\n",
       "<style scoped>\n",
       "    .dataframe tbody tr th:only-of-type {\n",
       "        vertical-align: middle;\n",
       "    }\n",
       "\n",
       "    .dataframe tbody tr th {\n",
       "        vertical-align: top;\n",
       "    }\n",
       "\n",
       "    .dataframe thead th {\n",
       "        text-align: right;\n",
       "    }\n",
       "</style>\n",
       "<table border=\"1\" class=\"dataframe\">\n",
       "  <thead>\n",
       "    <tr style=\"text-align: right;\">\n",
       "      <th></th>\n",
       "      <th>Community District</th>\n",
       "      <th>% Nearby Park</th>\n",
       "      <th>% Nearby Subway</th>\n",
       "    </tr>\n",
       "  </thead>\n",
       "  <tbody>\n",
       "    <tr>\n",
       "      <th>0</th>\n",
       "      <td>MN 01 - Financial District</td>\n",
       "      <td>0.986067</td>\n",
       "      <td>1.000000</td>\n",
       "    </tr>\n",
       "    <tr>\n",
       "      <th>1</th>\n",
       "      <td>MN 02 - Greenwich Village/Soho</td>\n",
       "      <td>0.995910</td>\n",
       "      <td>1.000000</td>\n",
       "    </tr>\n",
       "    <tr>\n",
       "      <th>2</th>\n",
       "      <td>MN 03 - Lower East Side/Chinatown</td>\n",
       "      <td>0.997909</td>\n",
       "      <td>0.855089</td>\n",
       "    </tr>\n",
       "    <tr>\n",
       "      <th>3</th>\n",
       "      <td>MN 04 - Clinton/Chelsea</td>\n",
       "      <td>0.789133</td>\n",
       "      <td>0.943890</td>\n",
       "    </tr>\n",
       "    <tr>\n",
       "      <th>4</th>\n",
       "      <td>MN 05 - Midtown</td>\n",
       "      <td>0.635637</td>\n",
       "      <td>1.000000</td>\n",
       "    </tr>\n",
       "  </tbody>\n",
       "</table>\n",
       "</div>"
      ],
      "text/plain": [
       "                  Community District  % Nearby Park  % Nearby Subway\n",
       "0         MN 01 - Financial District       0.986067         1.000000\n",
       "1     MN 02 - Greenwich Village/Soho       0.995910         1.000000\n",
       "2  MN 03 - Lower East Side/Chinatown       0.997909         0.855089\n",
       "3            MN 04 - Clinton/Chelsea       0.789133         0.943890\n",
       "4                    MN 05 - Midtown       0.635637         1.000000"
      ]
     },
     "execution_count": 25,
     "metadata": {},
     "output_type": "execute_result"
    }
   ],
   "source": [
    "#Combining Park and Subway dataframes\n",
    "df_park.insert(2, \"% Nearby Subway\", df_subway['% Nearby Subway'], True)\n",
    "df_park.head()"
   ]
  },
  {
   "cell_type": "code",
   "execution_count": 26,
   "metadata": {},
   "outputs": [],
   "source": [
    "#Adding Median Rent data to existing dataframe\n",
    "df_park.insert(3, \"Median Rent\", df_rent['Median Rent'], True)"
   ]
  },
  {
   "cell_type": "code",
   "execution_count": 27,
   "metadata": {},
   "outputs": [
    {
     "data": {
      "text/html": [
       "<div>\n",
       "<style scoped>\n",
       "    .dataframe tbody tr th:only-of-type {\n",
       "        vertical-align: middle;\n",
       "    }\n",
       "\n",
       "    .dataframe tbody tr th {\n",
       "        vertical-align: top;\n",
       "    }\n",
       "\n",
       "    .dataframe thead th {\n",
       "        text-align: right;\n",
       "    }\n",
       "</style>\n",
       "<table border=\"1\" class=\"dataframe\">\n",
       "  <thead>\n",
       "    <tr style=\"text-align: right;\">\n",
       "      <th></th>\n",
       "      <th>Community District</th>\n",
       "      <th>% Nearby Park</th>\n",
       "      <th>% Nearby Subway</th>\n",
       "      <th>Median Rent</th>\n",
       "    </tr>\n",
       "  </thead>\n",
       "  <tbody>\n",
       "    <tr>\n",
       "      <th>0</th>\n",
       "      <td>MN 01 - Financial District</td>\n",
       "      <td>0.986067</td>\n",
       "      <td>1.000000</td>\n",
       "      <td>3950</td>\n",
       "    </tr>\n",
       "    <tr>\n",
       "      <th>1</th>\n",
       "      <td>MN 02 - Greenwich Village/Soho</td>\n",
       "      <td>0.995910</td>\n",
       "      <td>1.000000</td>\n",
       "      <td>3595</td>\n",
       "    </tr>\n",
       "    <tr>\n",
       "      <th>2</th>\n",
       "      <td>MN 03 - Lower East Side/Chinatown</td>\n",
       "      <td>0.997909</td>\n",
       "      <td>0.855089</td>\n",
       "      <td>3000</td>\n",
       "    </tr>\n",
       "    <tr>\n",
       "      <th>3</th>\n",
       "      <td>MN 04 - Clinton/Chelsea</td>\n",
       "      <td>0.789133</td>\n",
       "      <td>0.943890</td>\n",
       "      <td>3400</td>\n",
       "    </tr>\n",
       "    <tr>\n",
       "      <th>4</th>\n",
       "      <td>MN 05 - Midtown</td>\n",
       "      <td>0.635637</td>\n",
       "      <td>1.000000</td>\n",
       "      <td>4000</td>\n",
       "    </tr>\n",
       "  </tbody>\n",
       "</table>\n",
       "</div>"
      ],
      "text/plain": [
       "                  Community District  % Nearby Park  % Nearby Subway  \\\n",
       "0         MN 01 - Financial District       0.986067         1.000000   \n",
       "1     MN 02 - Greenwich Village/Soho       0.995910         1.000000   \n",
       "2  MN 03 - Lower East Side/Chinatown       0.997909         0.855089   \n",
       "3            MN 04 - Clinton/Chelsea       0.789133         0.943890   \n",
       "4                    MN 05 - Midtown       0.635637         1.000000   \n",
       "\n",
       "   Median Rent  \n",
       "0         3950  \n",
       "1         3595  \n",
       "2         3000  \n",
       "3         3400  \n",
       "4         4000  "
      ]
     },
     "execution_count": 27,
     "metadata": {},
     "output_type": "execute_result"
    }
   ],
   "source": [
    "df_park.head()"
   ]
  },
  {
   "cell_type": "code",
   "execution_count": 28,
   "metadata": {},
   "outputs": [
    {
     "data": {
      "text/html": [
       "<div>\n",
       "<style scoped>\n",
       "    .dataframe tbody tr th:only-of-type {\n",
       "        vertical-align: middle;\n",
       "    }\n",
       "\n",
       "    .dataframe tbody tr th {\n",
       "        vertical-align: top;\n",
       "    }\n",
       "\n",
       "    .dataframe thead th {\n",
       "        text-align: right;\n",
       "    }\n",
       "</style>\n",
       "<table border=\"1\" class=\"dataframe\">\n",
       "  <thead>\n",
       "    <tr style=\"text-align: right;\">\n",
       "      <th></th>\n",
       "      <th>Community District</th>\n",
       "      <th>% Nearby Park</th>\n",
       "      <th>% Nearby Subway</th>\n",
       "      <th>Median Rent</th>\n",
       "    </tr>\n",
       "  </thead>\n",
       "  <tbody>\n",
       "    <tr>\n",
       "      <th>0</th>\n",
       "      <td>MN 01 - Financial District</td>\n",
       "      <td>0.986067</td>\n",
       "      <td>1.000000</td>\n",
       "      <td>3950</td>\n",
       "    </tr>\n",
       "    <tr>\n",
       "      <th>1</th>\n",
       "      <td>MN 02 - Greenwich Village/Soho</td>\n",
       "      <td>0.995910</td>\n",
       "      <td>1.000000</td>\n",
       "      <td>3595</td>\n",
       "    </tr>\n",
       "    <tr>\n",
       "      <th>2</th>\n",
       "      <td>MN 03 - Lower East Side/Chinatown</td>\n",
       "      <td>0.997909</td>\n",
       "      <td>0.855089</td>\n",
       "      <td>3000</td>\n",
       "    </tr>\n",
       "    <tr>\n",
       "      <th>3</th>\n",
       "      <td>MN 04 - Clinton/Chelsea</td>\n",
       "      <td>0.789133</td>\n",
       "      <td>0.943890</td>\n",
       "      <td>3400</td>\n",
       "    </tr>\n",
       "    <tr>\n",
       "      <th>4</th>\n",
       "      <td>MN 05 - Midtown</td>\n",
       "      <td>0.635637</td>\n",
       "      <td>1.000000</td>\n",
       "      <td>4000</td>\n",
       "    </tr>\n",
       "  </tbody>\n",
       "</table>\n",
       "</div>"
      ],
      "text/plain": [
       "                  Community District  % Nearby Park  % Nearby Subway  \\\n",
       "0         MN 01 - Financial District       0.986067         1.000000   \n",
       "1     MN 02 - Greenwich Village/Soho       0.995910         1.000000   \n",
       "2  MN 03 - Lower East Side/Chinatown       0.997909         0.855089   \n",
       "3            MN 04 - Clinton/Chelsea       0.789133         0.943890   \n",
       "4                    MN 05 - Midtown       0.635637         1.000000   \n",
       "\n",
       "   Median Rent  \n",
       "0         3950  \n",
       "1         3595  \n",
       "2         3000  \n",
       "3         3400  \n",
       "4         4000  "
      ]
     },
     "execution_count": 28,
     "metadata": {},
     "output_type": "execute_result"
    }
   ],
   "source": [
    "#New dataframe containing all columns\n",
    "df_combined=df_park\n",
    "df_combined.head()\n"
   ]
  },
  {
   "cell_type": "markdown",
   "metadata": {},
   "source": [
    "<h3><center>Plotting Data"
   ]
  },
  {
   "cell_type": "markdown",
   "metadata": {},
   "source": [
    "Initial observations"
   ]
  },
  {
   "cell_type": "code",
   "execution_count": 31,
   "metadata": {},
   "outputs": [
    {
     "data": {
      "image/png": "[encoded data removed]",
      "text/plain": [
       "<Figure size 432x288 with 1 Axes>"
      ]
     },
     "metadata": {
      "needs_background": "light"
     },
     "output_type": "display_data"
    }
   ],
   "source": [
    "#% Nearby Park vs Median Rent\n",
    "\n",
    "plt.scatter(df_combined[['% Nearby Park']], df_combined[['Median Rent']],  color='blue')\n",
    "plt.title(\"Parks vs Rents\")\n",
    "plt.xlabel(\"% Nearby Park\")\n",
    "plt.ylabel(\"Median Rent\")\n",
    "\n",
    "plt.show()"
   ]
  },
  {
   "cell_type": "code",
   "execution_count": 32,
   "metadata": {
    "scrolled": true
   },
   "outputs": [
    {
     "data": {
      "image/png": "[encoded data removed]",
      "text/plain": [
       "<Figure size 432x288 with 1 Axes>"
      ]
     },
     "metadata": {
      "needs_background": "light"
     },
     "output_type": "display_data"
    }
   ],
   "source": [
    "#% Nearby Subway vs Median Rent\n",
    "\n",
    "plt.scatter(df_combined[['% Nearby Subway']], df_combined[['Median Rent']], color='red')\n",
    "plt.title(\"Subway Stations vs Rents\")\n",
    "plt.xlabel(\"% Nearby Subway\")\n",
    "plt.ylabel(\"Median Rent\")\n",
    "plt.show()"
   ]
  },
  {
   "cell_type": "markdown",
   "metadata": {},
   "source": [
    "Train & Test Dataset"
   ]
  },
  {
   "cell_type": "code",
   "execution_count": 312,
   "metadata": {},
   "outputs": [],
   "source": [
    "#Setting a flag to split data into training and testing sets\n",
    "#80 percent trains\n",
    "\n",
    "msk = np.random.rand(len(df_combined)) < 0.80\n",
    "train = df_combined[msk]\n",
    "test = df_combined[~msk]"
   ]
  },
  {
   "cell_type": "markdown",
   "metadata": {},
   "source": [
    "Multiple Linear Regression\n",
    "\n",
    "Using multiple x variables to make a predicition for y (median rent)"
   ]
  },
  {
   "cell_type": "code",
   "execution_count": 313,
   "metadata": {},
   "outputs": [
    {
     "name": "stdout",
     "output_type": "stream",
     "text": [
      "Coefficients:  [[843.80387046 363.09000384]]\n"
     ]
    }
   ],
   "source": [
    "from sklearn import linear_model\n",
    "regr = linear_model.LinearRegression()\n",
    "x = np.asanyarray(train[['% Nearby Subway','% Nearby Park']])\n",
    "y = np.asanyarray(train[['Median Rent']])\n",
    "regr.fit (x, y)\n",
    "\n",
    "# The coefficients\n",
    "print ('Coefficients: ', regr.coef_)"
   ]
  },
  {
   "cell_type": "code",
   "execution_count": 314,
   "metadata": {},
   "outputs": [
    {
     "name": "stdout",
     "output_type": "stream",
     "text": [
      "Residual sum of squares: 147758.20\n",
      "Variance score: 0.23\n"
     ]
    }
   ],
   "source": [
    "y_hat= regr.predict(test[['% Nearby Subway','% Nearby Park']])\n",
    "x = np.asanyarray(test[['% Nearby Subway','% Nearby Park']])\n",
    "y = np.asanyarray(test[['Median Rent']])\n",
    "print(\"Residual sum of squares: %.2f\"\n",
    "      % np.mean((y_hat - y) ** 2))\n",
    "\n",
    "\n",
    "print('Variance score: %.2f' % regr.score(x, y))"
   ]
  },
  {
   "cell_type": "code",
   "execution_count": 33,
   "metadata": {},
   "outputs": [],
   "source": [
    "#Yhat is the estimated output while y is the correct output\n",
    "#Variance is the square of the standard deviation\n",
    "#Best possible scores is 1. lower scores are worse\n",
    "\n"
   ]
  },
  {
   "cell_type": "markdown",
   "metadata": {},
   "source": [
    "<h2><center> -- Results & Discussion --"
   ]
  },
  {
   "cell_type": "markdown",
   "metadata": {},
   "source": [
    "In my analysis I aimed to understand correlations and impacts of nearby neighborhood services (subway stations and parks) on the median rents in New York City neighborhoods. After creating a multiple linear regression model based on two independent variables, I found that the model had a very low variance score; thus, my prediction was far from perfect. At a score of just 0.23 (1 being a perfect prediction), this is not a reliable way to make accurate predictions of the median rental prices. Additionally, using the ordinary least squares method, the model attempted to minimize the error between the actual output and the predicted output. However, the residual sum of squares remained very high (147,758.30). \n",
    "\n",
    "If I could improve the model I would start by choosing different variables that may have a more direct correlation or bigger impact on rental prices. Subway stations and public parks can only give so much insight and are likely not among the driving factors that can make accurate predicitions. Clearly, factors such as income would have a significant impact on the rental prices in a neighborhood. Although, in this captsone, I attempted to use uncommon variables to generate similar patterns and insights. "
   ]
  },
  {
   "cell_type": "markdown",
   "metadata": {},
   "source": [
    "<h2><center> -- Conclusion --"
   ]
  },
  {
   "cell_type": "markdown",
   "metadata": {},
   "source": [
    "In conclusion, this project has made me better understand the importance of taking time to forumlate a clear goal and plan from the very beginning. Even though many of the machine learning methods taught in this course can be used to conduct very insightful analysis or create amazingly accurate models, I think one of the most important lessons I learned is that these tools are only useful when properly applied to answer the question at hand. \n",
    "\n",
    "In this project, I could have included additional independent variables to try and give the model more training. However, if I included more data that didn't correlate any better than my other variables, I would run the risk of overfitting my model and the additional data wouldn't be helpful. This is why I believe spending the time to understand exactly what data to use for a model and which methods will do the best at solving the specific question is so important. "
   ]
  },
  {
   "cell_type": "code",
   "execution_count": null,
   "metadata": {},
   "outputs": [],
   "source": []
  }
 ],
 "metadata": {
  "kernelspec": {
   "display_name": "Python 3.6",
   "language": "python",
   "name": "python3"
  },
  "language_info": {
   "codemirror_mode": {
    "name": "ipython",
    "version": 3
   },
   "file_extension": ".py",
   "mimetype": "text/x-python",
   "name": "python",
   "nbconvert_exporter": "python",
   "pygments_lexer": "ipython3",
   "version": "3.6.8"
  }
 },
 "nbformat": 4,
 "nbformat_minor": 1
}
